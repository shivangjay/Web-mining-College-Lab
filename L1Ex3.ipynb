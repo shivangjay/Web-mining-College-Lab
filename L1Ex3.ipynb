{
  "cells": [
    {
      "cell_type": "markdown",
      "metadata": {
        "id": "view-in-github",
        "colab_type": "text"
      },
      "source": [
        "<a href=\"https://colab.research.google.com/github/shivangjay/Web-mining-College-Lab/blob/main/L1Ex3.ipynb\" target=\"_parent\"><img src=\"https://colab.research.google.com/assets/colab-badge.svg\" alt=\"Open In Colab\"/></a>"
      ]
    },
    {
      "cell_type": "code",
      "execution_count": null,
      "metadata": {
        "id": "kqdSn6H5bOd1"
      },
      "outputs": [],
      "source": [
        "import requests\n",
        "from bs4 import BeautifulSoup\n",
        "import re"
      ]
    },
    {
      "cell_type": "code",
      "execution_count": null,
      "metadata": {
        "id": "LsfODwK2bOd2"
      },
      "outputs": [],
      "source": [
        "root_URL = \"http://www.vtop.ac.in\"\n",
        "search_word = \"^(?!.*programming).*Programme.*$\""
      ]
    },
    {
      "cell_type": "code",
      "execution_count": null,
      "metadata": {
        "id": "aHiBsGvybOd3",
        "outputId": "780ebcfa-12e1-4c62-ed6a-57bbbcac4dec"
      },
      "outputs": [
        {
          "name": "stdout",
          "output_type": "stream",
          "text": [
            "Status of the response :  200\n"
          ]
        }
      ],
      "source": [
        "# Use the requests library to retrieve the web page of the root URL\n",
        "\n",
        "response = requests.get(root_URL)\n",
        "print(\"Status of the response : \", response.status_code)"
      ]
    },
    {
      "cell_type": "code",
      "execution_count": null,
      "metadata": {
        "id": "8lb6i89NbOd5"
      },
      "outputs": [],
      "source": [
        "# Use the Beautiful Soap library to parse the retrieved web page\n",
        "\n",
        "root_page = BeautifulSoup(response.content, 'html.parser')"
      ]
    },
    {
      "cell_type": "code",
      "execution_count": null,
      "metadata": {
        "id": "sw-vByWQbOd6"
      },
      "outputs": [],
      "source": [
        "# Retrieve all the links to the sub-pages by retrieving all the `<a>` tags\n",
        "\n",
        "anchor_tags = root_page.find_all('a')\n",
        "\n",
        "result = []\n",
        "\n",
        "# Check if the word \"Programme\" is present but word \"programming\" is absent in each page, and if so then save its URL\n",
        "for anchor_tag in anchor_tags :\n",
        "    link = anchor_tag['href']\n",
        "    if re.search(search_word,def __init__(self, array):
        self.len = len(array)+1
        # Initialize an array of length n+1 to 0
        self.arr = [0] * self.len
        # Update the array to the one passed in the parameters
        for i in range(0, self.len - 1):
            self.update(i, array[i]) link, re.IGNORECASE) :\n",
        "        result.append(link)"
      ]
    },
    {
      "cell_type": "code",
      "execution_count": null,
      "metadata": {
        "id": "J3V9VSjdbOd6"
      },
      "outputs": [],
      "source": [
        "#Remove redundant links\n",
        "result=list(set(result))"
      ]
    },
    {
      "cell_type": "code",
      "execution_count": null,
      "metadata": {
        "id": "IzvxOl8ibOd7",
        "outputId": "5d295a80-c981-47e9-8b2a-6a68ef0f8f4b"
      },
      "outputs": [
        {
          "name": "stdout",
          "output_type": "stream",
          "text": [
            "The links in the root URL page which contains the word 'Programmes' and not 'programming' are :\n",
            "\t https://vit.ac.in/admissions/programmes-offered\n",
            "\t https://vit.ac.in/programmes-offered-2021-22\n",
            "\t https://vit.ac.in/programmes-offered-1\n",
            "\t https://vit.ac.in/programmes-offered-2020-21\n"
          ]
        }
      ],
      "source": [
        "print(\"The links in the root URL page which contains the word 'Programmes' and not 'programming' are :\")\n",
        "for url in result :\n",
        "    print(\"\\t\", url)"
      ]
    },
    {
      "cell_type": "code",
      "execution_count": null,
      "metadata": {
        "id": "a__Pu-F_bOd8"
      },
      "outputs": [],
      "source": [
        ""
      ]
    }
  ],
  "metadata": {
    "interpreter": {
      "hash": "5d493007c9ba4523df9c726dc044657cfa9c302fb2142ebbf5bc5a4bdadb6bcc"
    },
    "kernelspec": {
      "display_name": "Python 3.9.9 64-bit",
      "language": "python",
      "name": "python3"
    },
    "language_info": {
      "codemirror_mode": {
        "name": "ipython",
        "version": 3
      },
      "file_extension": ".py",
      "mimetype": "text/x-python",
      "name": "python",
      "nbconvert_exporter": "python",
      "pygments_lexer": "ipython3",
      "version": "3.9.9"
    },
    "orig_nbformat": 4,
    "colab": {
      "name": "L1Ex3.ipynb",
      "provenance": [],
      "include_colab_link": true
    }
  },
  "nbformat": 4,
  "nbformat_minor": 0
}
